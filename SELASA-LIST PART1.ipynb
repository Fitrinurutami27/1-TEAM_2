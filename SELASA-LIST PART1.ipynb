{
 "cells": [
  {
   "cell_type": "markdown",
   "id": "cff67a9e",
   "metadata": {},
   "source": [
    "TYPE DATA PYTHON :\n",
    "1. list\n",
    "2.\n"
   ]
  },
  {
   "cell_type": "code",
   "execution_count": 64,
   "id": "a45a535d",
   "metadata": {},
   "outputs": [],
   "source": [
    "a =[5,6.7,\"delapan\"]"
   ]
  },
  {
   "cell_type": "code",
   "execution_count": 2,
   "id": "3dc94010",
   "metadata": {},
   "outputs": [
    {
     "name": "stdout",
     "output_type": "stream",
     "text": [
      "[5, 6.7, 'delapan']\n"
     ]
    }
   ],
   "source": [
    "print(a)"
   ]
  },
  {
   "cell_type": "code",
   "execution_count": 3,
   "id": "496b0b80",
   "metadata": {
    "scrolled": true
   },
   "outputs": [
    {
     "data": {
      "text/plain": [
       "list"
      ]
     },
     "execution_count": 3,
     "metadata": {},
     "output_type": "execute_result"
    }
   ],
   "source": [
    "type(a)"
   ]
  },
  {
   "cell_type": "markdown",
   "id": "09661329",
   "metadata": {},
   "source": [
    "CONTOH PEMANGGILAN DATA DARI BELAKANG DENGAN INDEKS MIN (-...)"
   ]
  },
  {
   "cell_type": "code",
   "execution_count": 29,
   "id": "b19e60da",
   "metadata": {},
   "outputs": [
    {
     "data": {
      "text/plain": [
       "5"
      ]
     },
     "execution_count": 29,
     "metadata": {},
     "output_type": "execute_result"
    }
   ],
   "source": [
    "a[-0]"
   ]
  },
  {
   "cell_type": "code",
   "execution_count": 30,
   "id": "9234e78e",
   "metadata": {},
   "outputs": [
    {
     "data": {
      "text/plain": [
       "'delapan'"
      ]
     },
     "execution_count": 30,
     "metadata": {},
     "output_type": "execute_result"
    }
   ],
   "source": [
    "a[-1]"
   ]
  },
  {
   "cell_type": "code",
   "execution_count": 31,
   "id": "e72f068f",
   "metadata": {},
   "outputs": [
    {
     "data": {
      "text/plain": [
       "6.7"
      ]
     },
     "execution_count": 31,
     "metadata": {},
     "output_type": "execute_result"
    }
   ],
   "source": [
    "a[-2]"
   ]
  },
  {
   "cell_type": "code",
   "execution_count": 32,
   "id": "b285efb4",
   "metadata": {},
   "outputs": [
    {
     "data": {
      "text/plain": [
       "5"
      ]
     },
     "execution_count": 32,
     "metadata": {},
     "output_type": "execute_result"
    }
   ],
   "source": [
    "a[-3]"
   ]
  },
  {
   "cell_type": "markdown",
   "id": "b4515c9a",
   "metadata": {},
   "source": [
    "CONTOH DARI INDEKS (\".... : ....\") / slicing"
   ]
  },
  {
   "cell_type": "code",
   "execution_count": 52,
   "id": "1d5e8808",
   "metadata": {},
   "outputs": [
    {
     "data": {
      "text/plain": [
       "[5, 6.7]"
      ]
     },
     "execution_count": 52,
     "metadata": {},
     "output_type": "execute_result"
    }
   ],
   "source": [
    "a[0:2]"
   ]
  },
  {
   "cell_type": "code",
   "execution_count": 53,
   "id": "0e16b793",
   "metadata": {},
   "outputs": [
    {
     "data": {
      "text/plain": [
       "[5]"
      ]
     },
     "execution_count": 53,
     "metadata": {},
     "output_type": "execute_result"
    }
   ],
   "source": [
    "a[0:1]"
   ]
  },
  {
   "cell_type": "code",
   "execution_count": 54,
   "id": "a4f21bc6",
   "metadata": {},
   "outputs": [
    {
     "data": {
      "text/plain": [
       "[5, 6.7, 'delapan']"
      ]
     },
     "execution_count": 54,
     "metadata": {},
     "output_type": "execute_result"
    }
   ],
   "source": [
    "a[0:3]"
   ]
  },
  {
   "cell_type": "code",
   "execution_count": 55,
   "id": "8c8d8e4d",
   "metadata": {},
   "outputs": [
    {
     "data": {
      "text/plain": [
       "[6.7, 'delapan']"
      ]
     },
     "execution_count": 55,
     "metadata": {},
     "output_type": "execute_result"
    }
   ],
   "source": [
    "a[1:3]"
   ]
  },
  {
   "cell_type": "code",
   "execution_count": 56,
   "id": "c0ee6d1e",
   "metadata": {},
   "outputs": [
    {
     "data": {
      "text/plain": [
       "[5, 6.7, 'delapan']"
      ]
     },
     "execution_count": 56,
     "metadata": {},
     "output_type": "execute_result"
    }
   ],
   "source": [
    "a[0:4]"
   ]
  },
  {
   "cell_type": "code",
   "execution_count": 57,
   "id": "36a8925d",
   "metadata": {},
   "outputs": [
    {
     "data": {
      "text/plain": [
       "[6.7, 'delapan']"
      ]
     },
     "execution_count": 57,
     "metadata": {},
     "output_type": "execute_result"
    }
   ],
   "source": [
    "a[1:5]"
   ]
  },
  {
   "cell_type": "code",
   "execution_count": 65,
   "id": "6b3df543",
   "metadata": {},
   "outputs": [
    {
     "data": {
      "text/plain": [
       "[5, 6.7]"
      ]
     },
     "execution_count": 65,
     "metadata": {},
     "output_type": "execute_result"
    }
   ],
   "source": [
    "a[:2]"
   ]
  },
  {
   "cell_type": "code",
   "execution_count": 66,
   "id": "cfbd84c7",
   "metadata": {},
   "outputs": [
    {
     "data": {
      "text/plain": [
       "['delapan']"
      ]
     },
     "execution_count": 66,
     "metadata": {},
     "output_type": "execute_result"
    }
   ],
   "source": [
    "a[-1:]"
   ]
  },
  {
   "cell_type": "code",
   "execution_count": 68,
   "id": "7256a7e7",
   "metadata": {},
   "outputs": [
    {
     "data": {
      "text/plain": [
       "[6.7, 'delapan']"
      ]
     },
     "execution_count": 68,
     "metadata": {},
     "output_type": "execute_result"
    }
   ],
   "source": [
    "a[-2:]"
   ]
  },
  {
   "cell_type": "markdown",
   "id": "28abd565",
   "metadata": {},
   "source": [
    "SETIAP DATA DALAM PYTHON INDEKS DI MULAI DARI \"0\""
   ]
  },
  {
   "cell_type": "code",
   "execution_count": 6,
   "id": "c5558cf8",
   "metadata": {},
   "outputs": [
    {
     "data": {
      "text/plain": [
       "5"
      ]
     },
     "execution_count": 6,
     "metadata": {},
     "output_type": "execute_result"
    }
   ],
   "source": [
    "a[0]"
   ]
  },
  {
   "cell_type": "code",
   "execution_count": 7,
   "id": "1c9f2735",
   "metadata": {},
   "outputs": [
    {
     "data": {
      "text/plain": [
       "6.7"
      ]
     },
     "execution_count": 7,
     "metadata": {},
     "output_type": "execute_result"
    }
   ],
   "source": [
    "a[1]"
   ]
  },
  {
   "cell_type": "code",
   "execution_count": 8,
   "id": "74af58bd",
   "metadata": {},
   "outputs": [
    {
     "data": {
      "text/plain": [
       "'delapan'"
      ]
     },
     "execution_count": 8,
     "metadata": {},
     "output_type": "execute_result"
    }
   ],
   "source": [
    "a[2]"
   ]
  },
  {
   "cell_type": "code",
   "execution_count": 9,
   "id": "07de90aa",
   "metadata": {},
   "outputs": [
    {
     "data": {
      "text/plain": [
       "int"
      ]
     },
     "execution_count": 9,
     "metadata": {},
     "output_type": "execute_result"
    }
   ],
   "source": [
    "type(a[0])"
   ]
  },
  {
   "cell_type": "code",
   "execution_count": 10,
   "id": "f1bb2b3e",
   "metadata": {},
   "outputs": [
    {
     "data": {
      "text/plain": [
       "float"
      ]
     },
     "execution_count": 10,
     "metadata": {},
     "output_type": "execute_result"
    }
   ],
   "source": [
    "type(a[1])"
   ]
  },
  {
   "cell_type": "code",
   "execution_count": 11,
   "id": "1f94261a",
   "metadata": {},
   "outputs": [
    {
     "data": {
      "text/plain": [
       "str"
      ]
     },
     "execution_count": 11,
     "metadata": {},
     "output_type": "execute_result"
    }
   ],
   "source": [
    "type(a[2])"
   ]
  },
  {
   "cell_type": "markdown",
   "id": "679a3b03",
   "metadata": {},
   "source": [
    "TASK HARI SELASA"
   ]
  },
  {
   "cell_type": "code",
   "execution_count": 33,
   "id": "49b8b3b9",
   "metadata": {},
   "outputs": [],
   "source": [
    "b = [1, 4>5 ,9.7,\"saya\",4.5]"
   ]
  },
  {
   "cell_type": "code",
   "execution_count": 13,
   "id": "99fb56b0",
   "metadata": {},
   "outputs": [
    {
     "name": "stdout",
     "output_type": "stream",
     "text": [
      "[1, False, 9.7, 'saya', 4.5]\n"
     ]
    }
   ],
   "source": [
    "print(b)"
   ]
  },
  {
   "cell_type": "code",
   "execution_count": 14,
   "id": "b694861a",
   "metadata": {},
   "outputs": [
    {
     "data": {
      "text/plain": [
       "list"
      ]
     },
     "execution_count": 14,
     "metadata": {},
     "output_type": "execute_result"
    }
   ],
   "source": [
    "type(b)"
   ]
  },
  {
   "cell_type": "code",
   "execution_count": 15,
   "id": "08031afc",
   "metadata": {},
   "outputs": [
    {
     "data": {
      "text/plain": [
       "1"
      ]
     },
     "execution_count": 15,
     "metadata": {},
     "output_type": "execute_result"
    }
   ],
   "source": [
    "b[0]"
   ]
  },
  {
   "cell_type": "code",
   "execution_count": 23,
   "id": "faf40a0d",
   "metadata": {},
   "outputs": [
    {
     "data": {
      "text/plain": [
       "int"
      ]
     },
     "execution_count": 23,
     "metadata": {},
     "output_type": "execute_result"
    }
   ],
   "source": [
    "type(b[0])"
   ]
  },
  {
   "cell_type": "code",
   "execution_count": 20,
   "id": "5ca3acda",
   "metadata": {},
   "outputs": [
    {
     "data": {
      "text/plain": [
       "False"
      ]
     },
     "execution_count": 20,
     "metadata": {},
     "output_type": "execute_result"
    }
   ],
   "source": [
    "b[1]"
   ]
  },
  {
   "cell_type": "code",
   "execution_count": 24,
   "id": "17e18579",
   "metadata": {},
   "outputs": [
    {
     "data": {
      "text/plain": [
       "bool"
      ]
     },
     "execution_count": 24,
     "metadata": {},
     "output_type": "execute_result"
    }
   ],
   "source": [
    "type(b[1])"
   ]
  },
  {
   "cell_type": "code",
   "execution_count": 17,
   "id": "5c1e231c",
   "metadata": {},
   "outputs": [
    {
     "data": {
      "text/plain": [
       "9.7"
      ]
     },
     "execution_count": 17,
     "metadata": {},
     "output_type": "execute_result"
    }
   ],
   "source": [
    "b[2]"
   ]
  },
  {
   "cell_type": "code",
   "execution_count": 25,
   "id": "068da2c1",
   "metadata": {},
   "outputs": [
    {
     "data": {
      "text/plain": [
       "float"
      ]
     },
     "execution_count": 25,
     "metadata": {},
     "output_type": "execute_result"
    }
   ],
   "source": [
    "type(b[2])"
   ]
  },
  {
   "cell_type": "code",
   "execution_count": 18,
   "id": "9ac3e45c",
   "metadata": {},
   "outputs": [
    {
     "data": {
      "text/plain": [
       "'saya'"
      ]
     },
     "execution_count": 18,
     "metadata": {},
     "output_type": "execute_result"
    }
   ],
   "source": [
    "b[3]"
   ]
  },
  {
   "cell_type": "code",
   "execution_count": 26,
   "id": "89100405",
   "metadata": {},
   "outputs": [
    {
     "data": {
      "text/plain": [
       "str"
      ]
     },
     "execution_count": 26,
     "metadata": {},
     "output_type": "execute_result"
    }
   ],
   "source": [
    "type(b[3])"
   ]
  },
  {
   "cell_type": "code",
   "execution_count": 19,
   "id": "bc3b5cbc",
   "metadata": {},
   "outputs": [
    {
     "data": {
      "text/plain": [
       "4.5"
      ]
     },
     "execution_count": 19,
     "metadata": {},
     "output_type": "execute_result"
    }
   ],
   "source": [
    "b[4]"
   ]
  },
  {
   "cell_type": "code",
   "execution_count": 27,
   "id": "605f87e2",
   "metadata": {},
   "outputs": [
    {
     "data": {
      "text/plain": [
       "float"
      ]
     },
     "execution_count": 27,
     "metadata": {},
     "output_type": "execute_result"
    }
   ],
   "source": [
    "type(b[4])"
   ]
  },
  {
   "cell_type": "markdown",
   "id": "d8f74b0a",
   "metadata": {},
   "source": [
    "TASK2 HARI SELASA"
   ]
  },
  {
   "cell_type": "code",
   "execution_count": 41,
   "id": "1f5b1388",
   "metadata": {},
   "outputs": [],
   "source": [
    "b = [1, 4>5 ,9.7,\"saya\",4.5]"
   ]
  },
  {
   "cell_type": "code",
   "execution_count": 42,
   "id": "fbeb59dd",
   "metadata": {},
   "outputs": [
    {
     "name": "stdout",
     "output_type": "stream",
     "text": [
      "[1, False, 9.7, 'saya', 4.5]\n"
     ]
    }
   ],
   "source": [
    "print(b)"
   ]
  },
  {
   "cell_type": "code",
   "execution_count": 43,
   "id": "9550972f",
   "metadata": {},
   "outputs": [
    {
     "data": {
      "text/plain": [
       "4.5"
      ]
     },
     "execution_count": 43,
     "metadata": {},
     "output_type": "execute_result"
    }
   ],
   "source": [
    "b[-1]"
   ]
  },
  {
   "cell_type": "code",
   "execution_count": 44,
   "id": "db27fa03",
   "metadata": {},
   "outputs": [
    {
     "data": {
      "text/plain": [
       "'saya'"
      ]
     },
     "execution_count": 44,
     "metadata": {},
     "output_type": "execute_result"
    }
   ],
   "source": [
    "b[-2]"
   ]
  },
  {
   "cell_type": "code",
   "execution_count": 37,
   "id": "0f38dd83",
   "metadata": {},
   "outputs": [
    {
     "data": {
      "text/plain": [
       "9.7"
      ]
     },
     "execution_count": 37,
     "metadata": {},
     "output_type": "execute_result"
    }
   ],
   "source": [
    "b[-3]"
   ]
  },
  {
   "cell_type": "code",
   "execution_count": 39,
   "id": "91bf15c1",
   "metadata": {},
   "outputs": [
    {
     "data": {
      "text/plain": [
       "False"
      ]
     },
     "execution_count": 39,
     "metadata": {},
     "output_type": "execute_result"
    }
   ],
   "source": [
    "b[-4]"
   ]
  },
  {
   "cell_type": "code",
   "execution_count": 40,
   "id": "3bc3fbfe",
   "metadata": {},
   "outputs": [
    {
     "data": {
      "text/plain": [
       "1"
      ]
     },
     "execution_count": 40,
     "metadata": {},
     "output_type": "execute_result"
    }
   ],
   "source": [
    "b[-5]"
   ]
  },
  {
   "cell_type": "markdown",
   "id": "61350284",
   "metadata": {},
   "source": [
    "TASK3 HARI SELASA"
   ]
  },
  {
   "cell_type": "code",
   "execution_count": 69,
   "id": "56546776",
   "metadata": {},
   "outputs": [],
   "source": [
    "y = [2+6j,4.5,\"data analyst\",1,5<8]"
   ]
  },
  {
   "cell_type": "code",
   "execution_count": 46,
   "id": "5a27ad58",
   "metadata": {},
   "outputs": [
    {
     "name": "stdout",
     "output_type": "stream",
     "text": [
      "[(2+6j), 4.5, 'data analyst', 1, True]\n"
     ]
    }
   ],
   "source": [
    "print(y)"
   ]
  },
  {
   "cell_type": "code",
   "execution_count": 58,
   "id": "6ddf6d30",
   "metadata": {},
   "outputs": [
    {
     "data": {
      "text/plain": [
       "[(2+6j)]"
      ]
     },
     "execution_count": 58,
     "metadata": {},
     "output_type": "execute_result"
    }
   ],
   "source": [
    "y[0:1]"
   ]
  },
  {
   "cell_type": "code",
   "execution_count": 63,
   "id": "ec6200f5",
   "metadata": {},
   "outputs": [
    {
     "data": {
      "text/plain": [
       "[(2+6j), 4.5, 'data analyst', 1, True]"
      ]
     },
     "execution_count": 63,
     "metadata": {},
     "output_type": "execute_result"
    }
   ],
   "source": [
    "y[0:5]"
   ]
  },
  {
   "cell_type": "code",
   "execution_count": 60,
   "id": "96907053",
   "metadata": {},
   "outputs": [
    {
     "data": {
      "text/plain": [
       "[4.5, 'data analyst', 1, True]"
      ]
     },
     "execution_count": 60,
     "metadata": {},
     "output_type": "execute_result"
    }
   ],
   "source": [
    "y[1:5]"
   ]
  },
  {
   "cell_type": "markdown",
   "id": "45f3a8fc",
   "metadata": {},
   "source": [
    "TASK4 HARI SELASA"
   ]
  },
  {
   "cell_type": "code",
   "execution_count": 70,
   "id": "d4080442",
   "metadata": {},
   "outputs": [],
   "source": [
    "x =[1,2.4,6>9,\"kelompok 2\",2,2+6j,6.7,\"data analyst\",5.6,10]"
   ]
  },
  {
   "cell_type": "code",
   "execution_count": 71,
   "id": "1c10b506",
   "metadata": {},
   "outputs": [
    {
     "name": "stdout",
     "output_type": "stream",
     "text": [
      "[1, 2.4, False, 'kelompok 2', 2, (2+6j), 6.7, 'data analyst', 5.6, 10]\n"
     ]
    }
   ],
   "source": [
    "print(x)"
   ]
  },
  {
   "cell_type": "code",
   "execution_count": 72,
   "id": "a5f914a9",
   "metadata": {},
   "outputs": [
    {
     "data": {
      "text/plain": [
       "[2.4, False, 'kelompok 2', 2, (2+6j), 6.7, 'data analyst', 5.6, 10]"
      ]
     },
     "execution_count": 72,
     "metadata": {},
     "output_type": "execute_result"
    }
   ],
   "source": [
    "x[1:10]"
   ]
  },
  {
   "cell_type": "code",
   "execution_count": 73,
   "id": "483d6d4f",
   "metadata": {},
   "outputs": [
    {
     "data": {
      "text/plain": [
       "[1, 2.4, False, 'kelompok 2', 2, (2+6j), 6.7]"
      ]
     },
     "execution_count": 73,
     "metadata": {},
     "output_type": "execute_result"
    }
   ],
   "source": [
    "x[0:7]"
   ]
  },
  {
   "cell_type": "code",
   "execution_count": 74,
   "id": "90a8d014",
   "metadata": {},
   "outputs": [
    {
     "data": {
      "text/plain": [
       "[1, 2.4, False, 'kelompok 2', 2, (2+6j)]"
      ]
     },
     "execution_count": 74,
     "metadata": {},
     "output_type": "execute_result"
    }
   ],
   "source": [
    "x[:-4]"
   ]
  },
  {
   "cell_type": "code",
   "execution_count": 78,
   "id": "8dd749f9",
   "metadata": {},
   "outputs": [
    {
     "data": {
      "text/plain": [
       "[1]"
      ]
     },
     "execution_count": 78,
     "metadata": {},
     "output_type": "execute_result"
    }
   ],
   "source": [
    "x[:-9]"
   ]
  },
  {
   "cell_type": "code",
   "execution_count": 76,
   "id": "ea7f7a8b",
   "metadata": {},
   "outputs": [
    {
     "data": {
      "text/plain": [
       "[2.4, False, 'kelompok 2', 2, (2+6j), 6.7, 'data analyst', 5.6, 10]"
      ]
     },
     "execution_count": 76,
     "metadata": {},
     "output_type": "execute_result"
    }
   ],
   "source": [
    "x[1:]"
   ]
  },
  {
   "cell_type": "code",
   "execution_count": 80,
   "id": "d3679dad",
   "metadata": {},
   "outputs": [
    {
     "data": {
      "text/plain": [
       "[]"
      ]
     },
     "execution_count": 80,
     "metadata": {},
     "output_type": "execute_result"
    }
   ],
   "source": [
    "x[10:]"
   ]
  },
  {
   "cell_type": "code",
   "execution_count": 81,
   "id": "b9e10d0c",
   "metadata": {},
   "outputs": [],
   "source": [
    "b=[6,7,8,9,10,11,12,13,14,15]"
   ]
  },
  {
   "cell_type": "code",
   "execution_count": 82,
   "id": "692c74f1",
   "metadata": {},
   "outputs": [
    {
     "data": {
      "text/plain": [
       "[6, 7, 8, 9, 10, 11, 12, 13]"
      ]
     },
     "execution_count": 82,
     "metadata": {},
     "output_type": "execute_result"
    }
   ],
   "source": [
    "b[0:8]"
   ]
  },
  {
   "cell_type": "code",
   "execution_count": 83,
   "id": "99d62588",
   "metadata": {},
   "outputs": [
    {
     "data": {
      "text/plain": [
       "[6, 7, 8, 9, 10, 11, 12, 13]"
      ]
     },
     "execution_count": 83,
     "metadata": {},
     "output_type": "execute_result"
    }
   ],
   "source": [
    "b[0:8:1]"
   ]
  },
  {
   "cell_type": "code",
   "execution_count": 84,
   "id": "9160d6d0",
   "metadata": {},
   "outputs": [
    {
     "data": {
      "text/plain": [
       "[6, 8, 10, 12]"
      ]
     },
     "execution_count": 84,
     "metadata": {},
     "output_type": "execute_result"
    }
   ],
   "source": [
    "b[0:8:2]"
   ]
  },
  {
   "cell_type": "code",
   "execution_count": 85,
   "id": "6f71a596",
   "metadata": {},
   "outputs": [
    {
     "data": {
      "text/plain": [
       "[6, 9, 12]"
      ]
     },
     "execution_count": 85,
     "metadata": {},
     "output_type": "execute_result"
    }
   ],
   "source": [
    "b[0:8:3]"
   ]
  },
  {
   "cell_type": "code",
   "execution_count": null,
   "id": "a2939ef9",
   "metadata": {},
   "outputs": [],
   "source": []
  }
 ],
 "metadata": {
  "kernelspec": {
   "display_name": "Python 3 (ipykernel)",
   "language": "python",
   "name": "python3"
  },
  "language_info": {
   "codemirror_mode": {
    "name": "ipython",
    "version": 3
   },
   "file_extension": ".py",
   "mimetype": "text/x-python",
   "name": "python",
   "nbconvert_exporter": "python",
   "pygments_lexer": "ipython3",
   "version": "3.11.4"
  }
 },
 "nbformat": 4,
 "nbformat_minor": 5
}
