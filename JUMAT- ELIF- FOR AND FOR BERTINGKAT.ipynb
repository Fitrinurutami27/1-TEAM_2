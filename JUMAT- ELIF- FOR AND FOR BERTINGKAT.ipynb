{
 "cells": [
  {
   "cell_type": "markdown",
   "id": "5cf5b55e",
   "metadata": {},
   "source": [
    "\"ELIF\"\n",
    "\n",
    "- ELIF kepanjangan dari else,if\n",
    "- elif merupakan alternatif untuk if bertingkat\n",
    "- sebuah if statement dapat diikuti satu atau lebih statemen elif(opsional & tidak dibatasi)"
   ]
  },
  {
   "cell_type": "code",
   "execution_count": 1,
   "id": "70a5b831",
   "metadata": {},
   "outputs": [
    {
     "name": "stdout",
     "output_type": "stream",
     "text": [
      "berapa nilai anda : 80\n",
      "anda mendapat nilai A\n"
     ]
    }
   ],
   "source": [
    "nilai = int(input(\"berapa nilai anda : \"))\n",
    "\n",
    "if nilai >= 80:\n",
    "    print(\"anda mendapat nilai A\")\n",
    "elif nilai >= 60:\n",
    "    print(\"anda mendapat nilai B\")\n",
    "else:\n",
    "    print(\"anda mendapat nilai C\")\n",
    "    "
   ]
  },
  {
   "cell_type": "markdown",
   "id": "6acd6263",
   "metadata": {},
   "source": [
    "TASK1 JUMAT"
   ]
  },
  {
   "cell_type": "code",
   "execution_count": 5,
   "id": "3ebbebed",
   "metadata": {
    "scrolled": true
   },
   "outputs": [
    {
     "name": "stdout",
     "output_type": "stream",
     "text": [
      "nilai IMT : 27\n",
      "kategori gemuk(overweight)\n"
     ]
    }
   ],
   "source": [
    "IMT = float(input(\"nilai IMT : \"))\n",
    "\n",
    "if IMT <=17:\n",
    "    print(\"kategori sangat kurus\")\n",
    "elif IMT <=18.5:\n",
    "    print(\"kategori kurus\")\n",
    "elif IMT <=25.0:\n",
    "    print(\"kategori normal\")\n",
    "elif IMT <= 27:\n",
    "    print(\"kategori gemuk(overweight)\")\n",
    "else:\n",
    "    print(\"kategori gemuk (obesitas)\")\n",
    "    "
   ]
  },
  {
   "cell_type": "markdown",
   "id": "71998911",
   "metadata": {},
   "source": [
    "  \"FOR\""
   ]
  },
  {
   "cell_type": "markdown",
   "id": "aebbcc12",
   "metadata": {},
   "source": [
    "CONTOH FOR (STRING)"
   ]
  },
  {
   "cell_type": "code",
   "execution_count": 2,
   "id": "20109eb4",
   "metadata": {},
   "outputs": [
    {
     "name": "stdout",
     "output_type": "stream",
     "text": [
      "huruf d\n",
      "huruf a\n",
      "huruf t\n",
      "huruf a\n"
     ]
    }
   ],
   "source": [
    "for i in 'data':\n",
    "    print(\"huruf {}\". format(i))"
   ]
  },
  {
   "cell_type": "markdown",
   "id": "bcb6709d",
   "metadata": {},
   "source": [
    "CONTOH FOR (LIST)"
   ]
  },
  {
   "cell_type": "code",
   "execution_count": 4,
   "id": "46573dc9",
   "metadata": {},
   "outputs": [
    {
     "name": "stdout",
     "output_type": "stream",
     "text": [
      "warna merah\n",
      "warna kuning\n",
      "warna hijau\n"
     ]
    }
   ],
   "source": [
    "color = ['merah','kuning','hijau']\n",
    "for i in color:\n",
    "    print(\"warna {}\".format(i))"
   ]
  },
  {
   "cell_type": "markdown",
   "id": "91ab4118",
   "metadata": {},
   "source": [
    "CONTOH FOR BERTINGKAT"
   ]
  },
  {
   "cell_type": "code",
   "execution_count": 18,
   "id": "da73079c",
   "metadata": {},
   "outputs": [
    {
     "name": "stdout",
     "output_type": "stream",
     "text": [
      "* * * \n",
      "* * \n",
      "* \n"
     ]
    }
   ],
   "source": [
    "for row in range(3):\n",
    "    for col in range(3):\n",
    "        if row == 0 and col <= 2:\n",
    "            print(\"*\", end = \" \")\n",
    "        elif row == 1 and col <= 1:\n",
    "            print(\"*\", end = \" \")\n",
    "        elif row == 2 and col == 0:\n",
    "            print(\"*\", end = \" \")\n",
    "    print()"
   ]
  },
  {
   "cell_type": "markdown",
   "id": "1f319835",
   "metadata": {},
   "source": [
    "CONTOH FOR (RANGE)"
   ]
  },
  {
   "cell_type": "code",
   "execution_count": 3,
   "id": "af7ac973",
   "metadata": {},
   "outputs": [
    {
     "name": "stdout",
     "output_type": "stream",
     "text": [
      "0\n",
      "1\n",
      "2\n"
     ]
    }
   ],
   "source": [
    "for i in range(3):\n",
    "    print(i)"
   ]
  },
  {
   "cell_type": "markdown",
   "id": "78c69a32",
   "metadata": {},
   "source": [
    "TASK2 HAR JUMAT"
   ]
  },
  {
   "cell_type": "code",
   "execution_count": null,
   "id": "8b1f4aed",
   "metadata": {},
   "outputs": [],
   "source": [
    "for i in 'myedusolve':\n",
    "    print(\"huruf {}\".format(i))"
   ]
  },
  {
   "cell_type": "code",
   "execution_count": null,
   "id": "c30e2d27",
   "metadata": {},
   "outputs": [],
   "source": [
    "anggota =['daniel','diyah','aulia'] \n",
    "    \n",
    "for i in anggota:\n",
    "    print(\"anggota {}\".format(i))"
   ]
  },
  {
   "cell_type": "markdown",
   "id": "4be5eca4",
   "metadata": {},
   "source": [
    "TASK3 HARI JUMAT"
   ]
  },
  {
   "cell_type": "code",
   "execution_count": 5,
   "id": "5544abe8",
   "metadata": {},
   "outputs": [
    {
     "name": "stdout",
     "output_type": "stream",
     "text": [
      "0\n",
      "1\n",
      "2\n",
      "3\n",
      "4\n",
      "5\n",
      "6\n",
      "7\n",
      "8\n",
      "9\n"
     ]
    }
   ],
   "source": [
    "for x in range(10):\n",
    "    print(x)"
   ]
  },
  {
   "cell_type": "code",
   "execution_count": 8,
   "id": "70d6d390",
   "metadata": {},
   "outputs": [
    {
     "name": "stdout",
     "output_type": "stream",
     "text": [
      "10\n",
      "11\n",
      "12\n",
      "13\n",
      "14\n"
     ]
    }
   ],
   "source": [
    "for x in range(10,15):\n",
    "    print(x)\n",
    "    "
   ]
  },
  {
   "cell_type": "markdown",
   "id": "b903e2e6",
   "metadata": {},
   "source": [
    "TASK4 HARI JUMAT"
   ]
  },
  {
   "cell_type": "code",
   "execution_count": 19,
   "id": "38b6e4c4",
   "metadata": {},
   "outputs": [
    {
     "name": "stdout",
     "output_type": "stream",
     "text": [
      "* * * * * \n",
      "* * * * \n",
      "* * * \n",
      "* * \n",
      "* \n"
     ]
    }
   ],
   "source": [
    "for row in range(5):\n",
    "    for col in range(5):\n",
    "        if row == 0 and col <= 4:\n",
    "            print(\"*\", end = \" \")\n",
    "        elif row == 1 and col <= 3:\n",
    "            print(\"*\", end = \" \")\n",
    "        elif row == 2 and col <= 2:\n",
    "            print(\"*\", end = \" \")\n",
    "        elif row == 3 and col <= 1:\n",
    "            print(\"*\", end = \" \")\n",
    "        elif row == 4 and col == 0:\n",
    "            print(\"*\", end = \" \")\n",
    "    print()"
   ]
  },
  {
   "cell_type": "code",
   "execution_count": null,
   "id": "be72493e",
   "metadata": {},
   "outputs": [],
   "source": []
  }
 ],
 "metadata": {
  "kernelspec": {
   "display_name": "Python 3 (ipykernel)",
   "language": "python",
   "name": "python3"
  },
  "language_info": {
   "codemirror_mode": {
    "name": "ipython",
    "version": 3
   },
   "file_extension": ".py",
   "mimetype": "text/x-python",
   "name": "python",
   "nbconvert_exporter": "python",
   "pygments_lexer": "ipython3",
   "version": "3.11.4"
  }
 },
 "nbformat": 4,
 "nbformat_minor": 5
}
