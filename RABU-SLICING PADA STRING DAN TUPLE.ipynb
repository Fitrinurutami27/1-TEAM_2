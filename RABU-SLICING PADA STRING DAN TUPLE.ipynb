{
 "cells": [
  {
   "cell_type": "code",
   "execution_count": 1,
   "id": "bdf21c65",
   "metadata": {},
   "outputs": [],
   "source": [
    "a = \"Data Science\""
   ]
  },
  {
   "cell_type": "code",
   "execution_count": 2,
   "id": "928b1aca",
   "metadata": {},
   "outputs": [
    {
     "name": "stdout",
     "output_type": "stream",
     "text": [
      "t\n"
     ]
    }
   ],
   "source": [
    "print(a[2])\n",
    "\n",
    "#mengambil karakter ketiga pada string a"
   ]
  },
  {
   "cell_type": "code",
   "execution_count": 3,
   "id": "35484f59",
   "metadata": {},
   "outputs": [
    {
     "name": "stdout",
     "output_type": "stream",
     "text": [
      "Science\n"
     ]
    }
   ],
   "source": [
    "print(a[5:12])\n",
    "\n",
    "#mengambil karaktr keenam hingga duabelas dari string a"
   ]
  },
  {
   "cell_type": "code",
   "execution_count": 4,
   "id": "4f010079",
   "metadata": {},
   "outputs": [
    {
     "ename": "TypeError",
     "evalue": "'str' object does not support item assignment",
     "output_type": "error",
     "traceback": [
      "\u001b[1;31m---------------------------------------------------------------------------\u001b[0m",
      "\u001b[1;31mTypeError\u001b[0m                                 Traceback (most recent call last)",
      "Cell \u001b[1;32mIn[4], line 1\u001b[0m\n\u001b[1;32m----> 1\u001b[0m a[\u001b[38;5;241m3\u001b[39m]\u001b[38;5;241m=\u001b[39m \u001b[38;5;124m\"\u001b[39m\u001b[38;5;124mo\u001b[39m\u001b[38;5;124m\"\u001b[39m\n",
      "\u001b[1;31mTypeError\u001b[0m: 'str' object does not support item assignment"
     ]
    }
   ],
   "source": [
    "a[3]= \"o\"\n",
    "\n",
    "#mengubah karakter keempat dari string a, seharusnya error karena immutable"
   ]
  },
  {
   "cell_type": "code",
   "execution_count": 5,
   "id": "8377b9e1",
   "metadata": {},
   "outputs": [],
   "source": [
    "b = [\"d\", \"a\", \"t\", \"a\"]"
   ]
  },
  {
   "cell_type": "code",
   "execution_count": 6,
   "id": "b1c2e0da",
   "metadata": {},
   "outputs": [
    {
     "name": "stdout",
     "output_type": "stream",
     "text": [
      "['d', 'a', 't', 'a']\n"
     ]
    }
   ],
   "source": [
    "print(b)"
   ]
  },
  {
   "cell_type": "code",
   "execution_count": 7,
   "id": "d2621c8b",
   "metadata": {},
   "outputs": [
    {
     "data": {
      "text/plain": [
       "'a'"
      ]
     },
     "execution_count": 7,
     "metadata": {},
     "output_type": "execute_result"
    }
   ],
   "source": [
    "b[3]"
   ]
  },
  {
   "cell_type": "code",
   "execution_count": 9,
   "id": "36f7b5f7",
   "metadata": {},
   "outputs": [
    {
     "name": "stdout",
     "output_type": "stream",
     "text": [
      "['d', 'a', 't', 'o']\n"
     ]
    }
   ],
   "source": [
    "b[3] = \"o\"\n",
    "print(b)\n",
    "\n",
    "#dapat merubah karena string dalam list"
   ]
  },
  {
   "cell_type": "markdown",
   "id": "eb9660fc",
   "metadata": {},
   "source": [
    "TUPLE\n",
    "tuple adalah jenis dari list yang tidak dapa diubah elemenya.umumnya tuple di gunakan untuk data yang bersifat sekali tulis, dan dapat dieksekusi lebih cepat. tuple didefiniskan dengan kurung dan lemen yang dipisahkan dengan koma"
   ]
  },
  {
   "cell_type": "code",
   "execution_count": 20,
   "id": "942a8205",
   "metadata": {},
   "outputs": [],
   "source": [
    "a =(2,\"buku\",3.5)"
   ]
  },
  {
   "cell_type": "code",
   "execution_count": 21,
   "id": "c9489240",
   "metadata": {},
   "outputs": [
    {
     "name": "stdout",
     "output_type": "stream",
     "text": [
      "(2, 'buku', 3.5)\n"
     ]
    }
   ],
   "source": [
    "print(a)"
   ]
  },
  {
   "cell_type": "code",
   "execution_count": 22,
   "id": "32cfe271",
   "metadata": {},
   "outputs": [
    {
     "name": "stdout",
     "output_type": "stream",
     "text": [
      "buku\n"
     ]
    }
   ],
   "source": [
    "print(a[1])"
   ]
  },
  {
   "cell_type": "code",
   "execution_count": 23,
   "id": "5dbce76f",
   "metadata": {},
   "outputs": [
    {
     "name": "stdout",
     "output_type": "stream",
     "text": [
      "(2, 'buku')\n"
     ]
    }
   ],
   "source": [
    "print(a[0:2])"
   ]
  },
  {
   "cell_type": "code",
   "execution_count": 24,
   "id": "da67c1af",
   "metadata": {},
   "outputs": [
    {
     "ename": "SyntaxError",
     "evalue": "expression cannot contain assignment, perhaps you meant \"==\"? (3133224767.py, line 1)",
     "output_type": "error",
     "traceback": [
      "\u001b[1;36m  Cell \u001b[1;32mIn[24], line 1\u001b[1;36m\u001b[0m\n\u001b[1;33m    print(a[0] = 10)\u001b[0m\n\u001b[1;37m          ^\u001b[0m\n\u001b[1;31mSyntaxError\u001b[0m\u001b[1;31m:\u001b[0m expression cannot contain assignment, perhaps you meant \"==\"?\n"
     ]
    }
   ],
   "source": [
    "print(a[0] = 10)\n",
    "\n",
    "#tidak dpat diubah karena bersifat immutable"
   ]
  },
  {
   "cell_type": "code",
   "execution_count": null,
   "id": "a4ccbeb6",
   "metadata": {},
   "outputs": [],
   "source": []
  },
  {
   "cell_type": "markdown",
   "id": "6a792ec9",
   "metadata": {},
   "source": [
    "TASK HARI RABU"
   ]
  },
  {
   "cell_type": "code",
   "execution_count": 12,
   "id": "be26dcca",
   "metadata": {},
   "outputs": [],
   "source": [
    "x = \"Myedusolve\""
   ]
  },
  {
   "cell_type": "code",
   "execution_count": 13,
   "id": "86f827ca",
   "metadata": {},
   "outputs": [
    {
     "name": "stdout",
     "output_type": "stream",
     "text": [
      "Myedusolve\n"
     ]
    }
   ],
   "source": [
    "print(x)"
   ]
  },
  {
   "cell_type": "code",
   "execution_count": 14,
   "id": "a6eb23ee",
   "metadata": {},
   "outputs": [
    {
     "data": {
      "text/plain": [
       "'s'"
      ]
     },
     "execution_count": 14,
     "metadata": {},
     "output_type": "execute_result"
    }
   ],
   "source": [
    "x[5]"
   ]
  },
  {
   "cell_type": "code",
   "execution_count": 15,
   "id": "e2f122f3",
   "metadata": {},
   "outputs": [
    {
     "data": {
      "text/plain": [
       "'edusolve'"
      ]
     },
     "execution_count": 15,
     "metadata": {},
     "output_type": "execute_result"
    }
   ],
   "source": [
    "x[2:10]"
   ]
  },
  {
   "cell_type": "code",
   "execution_count": 16,
   "id": "90d247c9",
   "metadata": {},
   "outputs": [],
   "source": [
    "y =[\"p\",\"y\",\"t\",\"h\",\"o\",\"n\"]"
   ]
  },
  {
   "cell_type": "code",
   "execution_count": 17,
   "id": "d95adb17",
   "metadata": {},
   "outputs": [
    {
     "name": "stdout",
     "output_type": "stream",
     "text": [
      "['p', 'y', 't', 'h', 'o', 'n']\n"
     ]
    }
   ],
   "source": [
    "print(y)"
   ]
  },
  {
   "cell_type": "code",
   "execution_count": 18,
   "id": "b166a90e",
   "metadata": {},
   "outputs": [],
   "source": [
    "y[0] = \"s\""
   ]
  },
  {
   "cell_type": "code",
   "execution_count": 19,
   "id": "efb748d7",
   "metadata": {},
   "outputs": [
    {
     "name": "stdout",
     "output_type": "stream",
     "text": [
      "['s', 'y', 't', 'h', 'o', 'n']\n"
     ]
    }
   ],
   "source": [
    "print(y)"
   ]
  },
  {
   "cell_type": "code",
   "execution_count": null,
   "id": "ba7ee7e3",
   "metadata": {},
   "outputs": [],
   "source": []
  }
 ],
 "metadata": {
  "kernelspec": {
   "display_name": "Python 3 (ipykernel)",
   "language": "python",
   "name": "python3"
  },
  "language_info": {
   "codemirror_mode": {
    "name": "ipython",
    "version": 3
   },
   "file_extension": ".py",
   "mimetype": "text/x-python",
   "name": "python",
   "nbconvert_exporter": "python",
   "pygments_lexer": "ipython3",
   "version": "3.11.4"
  }
 },
 "nbformat": 4,
 "nbformat_minor": 5
}
