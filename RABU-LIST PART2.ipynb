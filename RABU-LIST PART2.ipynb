{
 "cells": [
  {
   "cell_type": "markdown",
   "id": "2e21268b",
   "metadata": {},
   "source": [
    "APPEND,EXTEND,INSERT"
   ]
  },
  {
   "cell_type": "code",
   "execution_count": 1,
   "id": "df4becf9",
   "metadata": {},
   "outputs": [],
   "source": [
    "arr =[1,2,3]"
   ]
  },
  {
   "cell_type": "code",
   "execution_count": 2,
   "id": "5c7cae0a",
   "metadata": {},
   "outputs": [
    {
     "name": "stdout",
     "output_type": "stream",
     "text": [
      "1\n"
     ]
    }
   ],
   "source": [
    "print(arr[0])"
   ]
  },
  {
   "cell_type": "code",
   "execution_count": 3,
   "id": "241b844e",
   "metadata": {},
   "outputs": [
    {
     "data": {
      "text/plain": [
       "3"
      ]
     },
     "execution_count": 3,
     "metadata": {},
     "output_type": "execute_result"
    }
   ],
   "source": [
    "len(arr)"
   ]
  },
  {
   "cell_type": "code",
   "execution_count": 4,
   "id": "cc75a837",
   "metadata": {},
   "outputs": [],
   "source": [
    "arr.append(9)"
   ]
  },
  {
   "cell_type": "code",
   "execution_count": 5,
   "id": "3ee2d14f",
   "metadata": {},
   "outputs": [
    {
     "name": "stdout",
     "output_type": "stream",
     "text": [
      "[1, 2, 3, 9]\n"
     ]
    }
   ],
   "source": [
    "print(arr)"
   ]
  },
  {
   "cell_type": "markdown",
   "id": "7e7f7335",
   "metadata": {},
   "source": [
    "EXTEND DI GUNAKAN UNTUK MENAMBAH LEBIH DARI 1 ELEMEN"
   ]
  },
  {
   "cell_type": "code",
   "execution_count": 6,
   "id": "e7240b7b",
   "metadata": {},
   "outputs": [],
   "source": [
    "arr.extend([10,11])"
   ]
  },
  {
   "cell_type": "code",
   "execution_count": 7,
   "id": "46e56ce1",
   "metadata": {},
   "outputs": [
    {
     "name": "stdout",
     "output_type": "stream",
     "text": [
      "[1, 2, 3, 9, 10, 11]\n"
     ]
    }
   ],
   "source": [
    "print(arr)"
   ]
  },
  {
   "cell_type": "markdown",
   "id": "d9809dec",
   "metadata": {},
   "source": [
    "INSERT DI GUNAKAN UNTUK MENAMBAH PADA INDEKS TERTENTU"
   ]
  },
  {
   "cell_type": "code",
   "execution_count": 8,
   "id": "bbfb253b",
   "metadata": {},
   "outputs": [],
   "source": [
    "arr.insert(3,7)"
   ]
  },
  {
   "cell_type": "code",
   "execution_count": 9,
   "id": "3aac9b83",
   "metadata": {},
   "outputs": [
    {
     "name": "stdout",
     "output_type": "stream",
     "text": [
      "[1, 2, 3, 7, 9, 10, 11]\n"
     ]
    }
   ],
   "source": [
    "print(arr)"
   ]
  },
  {
   "cell_type": "code",
   "execution_count": 10,
   "id": "abf55b84",
   "metadata": {},
   "outputs": [
    {
     "data": {
      "text/plain": [
       "7"
      ]
     },
     "execution_count": 10,
     "metadata": {},
     "output_type": "execute_result"
    }
   ],
   "source": [
    "len(arr)"
   ]
  },
  {
   "cell_type": "markdown",
   "id": "c4cc65b2",
   "metadata": {},
   "source": [
    "REMOVE DIGUNAKAN UNTUK MENGHAPUS ANGKA"
   ]
  },
  {
   "cell_type": "code",
   "execution_count": 28,
   "id": "6279db69",
   "metadata": {},
   "outputs": [],
   "source": [
    "arr.remove(10)"
   ]
  },
  {
   "cell_type": "code",
   "execution_count": 29,
   "id": "8db53d28",
   "metadata": {},
   "outputs": [
    {
     "name": "stdout",
     "output_type": "stream",
     "text": [
      "[1, 2, 3, 7, 9, 11]\n"
     ]
    }
   ],
   "source": [
    "print(arr)"
   ]
  },
  {
   "cell_type": "markdown",
   "id": "067e65bd",
   "metadata": {},
   "source": [
    "POP DIGUNAKAN UNTUK MENGHAPUS LAST ELEMEN"
   ]
  },
  {
   "cell_type": "code",
   "execution_count": 31,
   "id": "fe7dfae8",
   "metadata": {},
   "outputs": [
    {
     "data": {
      "text/plain": [
       "11"
      ]
     },
     "execution_count": 31,
     "metadata": {},
     "output_type": "execute_result"
    }
   ],
   "source": [
    "arr.pop()"
   ]
  },
  {
   "cell_type": "code",
   "execution_count": 32,
   "id": "6629391b",
   "metadata": {},
   "outputs": [
    {
     "name": "stdout",
     "output_type": "stream",
     "text": [
      "[1, 2, 3, 7, 9]\n"
     ]
    }
   ],
   "source": [
    "print(arr)"
   ]
  },
  {
   "cell_type": "markdown",
   "id": "cc692fd2",
   "metadata": {},
   "source": [
    "INDEX DIGUNAKAN UNTUK MENGETAHUI ELEMEN INI MERUPAKAN INDEKS KE BERAPA"
   ]
  },
  {
   "cell_type": "code",
   "execution_count": 33,
   "id": "ef2462d2",
   "metadata": {},
   "outputs": [
    {
     "data": {
      "text/plain": [
       "4"
      ]
     },
     "execution_count": 33,
     "metadata": {},
     "output_type": "execute_result"
    }
   ],
   "source": [
    "arr.index(9)"
   ]
  },
  {
   "cell_type": "markdown",
   "id": "56e1c226",
   "metadata": {},
   "source": [
    "FUNCTION COUNT DIGUNAKAN UNTUK MENGHITUNG ELEMEN DUPLIKAT"
   ]
  },
  {
   "cell_type": "code",
   "execution_count": 52,
   "id": "3cbaac71",
   "metadata": {},
   "outputs": [],
   "source": [
    "x =[2,1,1,1,3,5,4]"
   ]
  },
  {
   "cell_type": "code",
   "execution_count": 53,
   "id": "ffe1edfb",
   "metadata": {},
   "outputs": [
    {
     "data": {
      "text/plain": [
       "3"
      ]
     },
     "execution_count": 53,
     "metadata": {},
     "output_type": "execute_result"
    }
   ],
   "source": [
    "x.count(1)"
   ]
  },
  {
   "cell_type": "markdown",
   "id": "abae6983",
   "metadata": {},
   "source": [
    "SORT DIGUNAKAN UNTUK MENGURUTKAN DARI KECIL - BESAR (ASC)"
   ]
  },
  {
   "cell_type": "code",
   "execution_count": 54,
   "id": "f343840b",
   "metadata": {},
   "outputs": [],
   "source": [
    "x.sort()"
   ]
  },
  {
   "cell_type": "code",
   "execution_count": 55,
   "id": "04e7e891",
   "metadata": {},
   "outputs": [
    {
     "name": "stdout",
     "output_type": "stream",
     "text": [
      "[1, 1, 1, 2, 3, 4, 5]\n"
     ]
    }
   ],
   "source": [
    "print(x)"
   ]
  },
  {
   "cell_type": "markdown",
   "id": "a14fac96",
   "metadata": {},
   "source": [
    "REVERSE = True (SEBAGAI FUNCTION) DIGUNAKAN UNTUK MENGURUTKAN DARI BESAR - KECIL(DESC)"
   ]
  },
  {
   "cell_type": "code",
   "execution_count": 57,
   "id": "5dff4f9e",
   "metadata": {},
   "outputs": [],
   "source": [
    "x.sort(reverse = True)"
   ]
  },
  {
   "cell_type": "code",
   "execution_count": 58,
   "id": "9ac7b0fa",
   "metadata": {
    "scrolled": true
   },
   "outputs": [
    {
     "name": "stdout",
     "output_type": "stream",
     "text": [
      "[5, 4, 3, 2, 1, 1, 1]\n"
     ]
    }
   ],
   "source": [
    "print(x)"
   ]
  },
  {
   "cell_type": "markdown",
   "id": "59f249af",
   "metadata": {},
   "source": [
    "X.REVERSE(SEBAGAI PARAMETER) DIGUNAKAN UNTUK MENGEMBALIKAN PADA KEADAAN AWAL"
   ]
  },
  {
   "cell_type": "code",
   "execution_count": 59,
   "id": "07571fe1",
   "metadata": {},
   "outputs": [],
   "source": [
    "x.reverse()"
   ]
  },
  {
   "cell_type": "code",
   "execution_count": 60,
   "id": "d0f7771e",
   "metadata": {},
   "outputs": [
    {
     "name": "stdout",
     "output_type": "stream",
     "text": [
      "[1, 1, 1, 2, 3, 4, 5]\n"
     ]
    }
   ],
   "source": [
    "print(x)"
   ]
  },
  {
   "cell_type": "code",
   "execution_count": null,
   "id": "a0390235",
   "metadata": {},
   "outputs": [],
   "source": []
  },
  {
   "cell_type": "raw",
   "id": "9377e68b",
   "metadata": {},
   "source": [
    "TASK 2 HARI RABU"
   ]
  },
  {
   "cell_type": "code",
   "execution_count": 36,
   "id": "89e6533d",
   "metadata": {},
   "outputs": [],
   "source": [
    "set = [4,5,6,7,8,9,10,11,12,12,13,14,15,16,17,18,19]"
   ]
  },
  {
   "cell_type": "code",
   "execution_count": 37,
   "id": "84b6ba3c",
   "metadata": {},
   "outputs": [
    {
     "name": "stdout",
     "output_type": "stream",
     "text": [
      "[4, 5, 6, 7, 8, 9, 10, 11, 12, 12, 13, 14, 15, 16, 17, 18, 19]\n"
     ]
    }
   ],
   "source": [
    "print(set)"
   ]
  },
  {
   "cell_type": "code",
   "execution_count": 38,
   "id": "e6ae05db",
   "metadata": {},
   "outputs": [],
   "source": [
    "set.append(10)"
   ]
  },
  {
   "cell_type": "code",
   "execution_count": 39,
   "id": "23c93f8c",
   "metadata": {},
   "outputs": [
    {
     "name": "stdout",
     "output_type": "stream",
     "text": [
      "[4, 5, 6, 7, 8, 9, 10, 11, 12, 12, 13, 14, 15, 16, 17, 18, 19, 10]\n"
     ]
    }
   ],
   "source": [
    "print(set)"
   ]
  },
  {
   "cell_type": "code",
   "execution_count": 40,
   "id": "80bc468a",
   "metadata": {},
   "outputs": [],
   "source": [
    "set.extend([11,67,80,89])"
   ]
  },
  {
   "cell_type": "code",
   "execution_count": 41,
   "id": "220c8a71",
   "metadata": {},
   "outputs": [
    {
     "name": "stdout",
     "output_type": "stream",
     "text": [
      "[4, 5, 6, 7, 8, 9, 10, 11, 12, 12, 13, 14, 15, 16, 17, 18, 19, 10, 11, 67, 80, 89]\n"
     ]
    }
   ],
   "source": [
    "print(set)"
   ]
  },
  {
   "cell_type": "code",
   "execution_count": 42,
   "id": "310b4a28",
   "metadata": {},
   "outputs": [],
   "source": [
    "set.insert(0,100)"
   ]
  },
  {
   "cell_type": "code",
   "execution_count": 43,
   "id": "f61d9f88",
   "metadata": {},
   "outputs": [
    {
     "name": "stdout",
     "output_type": "stream",
     "text": [
      "[100, 4, 5, 6, 7, 8, 9, 10, 11, 12, 12, 13, 14, 15, 16, 17, 18, 19, 10, 11, 67, 80, 89]\n"
     ]
    }
   ],
   "source": [
    "print(set)"
   ]
  },
  {
   "cell_type": "code",
   "execution_count": 44,
   "id": "e8e7fa6b",
   "metadata": {},
   "outputs": [
    {
     "data": {
      "text/plain": [
       "23"
      ]
     },
     "execution_count": 44,
     "metadata": {},
     "output_type": "execute_result"
    }
   ],
   "source": [
    "len(set)"
   ]
  },
  {
   "cell_type": "code",
   "execution_count": 45,
   "id": "8b0bfffa",
   "metadata": {},
   "outputs": [],
   "source": [
    "set.remove(100)"
   ]
  },
  {
   "cell_type": "code",
   "execution_count": 46,
   "id": "6d1ed17f",
   "metadata": {},
   "outputs": [
    {
     "name": "stdout",
     "output_type": "stream",
     "text": [
      "[4, 5, 6, 7, 8, 9, 10, 11, 12, 12, 13, 14, 15, 16, 17, 18, 19, 10, 11, 67, 80, 89]\n"
     ]
    }
   ],
   "source": [
    "print(set)"
   ]
  },
  {
   "cell_type": "code",
   "execution_count": 47,
   "id": "a40c7bba",
   "metadata": {},
   "outputs": [
    {
     "data": {
      "text/plain": [
       "89"
      ]
     },
     "execution_count": 47,
     "metadata": {},
     "output_type": "execute_result"
    }
   ],
   "source": [
    "set.pop()"
   ]
  },
  {
   "cell_type": "code",
   "execution_count": 48,
   "id": "9b4c9f4b",
   "metadata": {},
   "outputs": [
    {
     "name": "stdout",
     "output_type": "stream",
     "text": [
      "[4, 5, 6, 7, 8, 9, 10, 11, 12, 12, 13, 14, 15, 16, 17, 18, 19, 10, 11, 67, 80]\n"
     ]
    }
   ],
   "source": [
    "print(set)"
   ]
  },
  {
   "cell_type": "code",
   "execution_count": 49,
   "id": "79df05ba",
   "metadata": {},
   "outputs": [
    {
     "data": {
      "text/plain": [
       "12"
      ]
     },
     "execution_count": 49,
     "metadata": {},
     "output_type": "execute_result"
    }
   ],
   "source": [
    "set.index(15)"
   ]
  },
  {
   "cell_type": "code",
   "execution_count": 50,
   "id": "c05b99c6",
   "metadata": {},
   "outputs": [
    {
     "data": {
      "text/plain": [
       "2"
      ]
     },
     "execution_count": 50,
     "metadata": {},
     "output_type": "execute_result"
    }
   ],
   "source": [
    "set.count(12)"
   ]
  },
  {
   "cell_type": "code",
   "execution_count": 51,
   "id": "a8d655ac",
   "metadata": {},
   "outputs": [
    {
     "data": {
      "text/plain": [
       "21"
      ]
     },
     "execution_count": 51,
     "metadata": {},
     "output_type": "execute_result"
    }
   ],
   "source": [
    "len(set)"
   ]
  },
  {
   "cell_type": "markdown",
   "id": "c705f428",
   "metadata": {},
   "source": [
    "TASK HARI RABU"
   ]
  },
  {
   "cell_type": "code",
   "execution_count": 61,
   "id": "bfe4fbe1",
   "metadata": {},
   "outputs": [],
   "source": [
    "set = [4,5,6,7,8,9,10,11,12,12,13,14,15,16,17,18,19]"
   ]
  },
  {
   "cell_type": "code",
   "execution_count": 62,
   "id": "8984c98b",
   "metadata": {},
   "outputs": [
    {
     "name": "stdout",
     "output_type": "stream",
     "text": [
      "[4, 5, 6, 7, 8, 9, 10, 11, 12, 12, 13, 14, 15, 16, 17, 18, 19]\n"
     ]
    }
   ],
   "source": [
    "print(set)"
   ]
  },
  {
   "cell_type": "code",
   "execution_count": 68,
   "id": "8ea80218",
   "metadata": {},
   "outputs": [
    {
     "name": "stdout",
     "output_type": "stream",
     "text": [
      "[4, 5, 6, 7, 8, 9, 10, 11, 12, 12, 13, 14, 15, 16, 17, 18, 19]\n"
     ]
    }
   ],
   "source": [
    "set.sort()\n",
    "print(set)"
   ]
  },
  {
   "cell_type": "code",
   "execution_count": 66,
   "id": "178b99ee",
   "metadata": {},
   "outputs": [
    {
     "name": "stdout",
     "output_type": "stream",
     "text": [
      "[19, 18, 17, 16, 15, 14, 13, 12, 12, 11, 10, 9, 8, 7, 6, 5, 4]\n"
     ]
    }
   ],
   "source": [
    "set.sort(reverse = True)\n",
    "print(set)"
   ]
  },
  {
   "cell_type": "code",
   "execution_count": 70,
   "id": "b7128492",
   "metadata": {},
   "outputs": [],
   "source": [
    "set.reverse()"
   ]
  },
  {
   "cell_type": "code",
   "execution_count": 71,
   "id": "519777c1",
   "metadata": {},
   "outputs": [
    {
     "name": "stdout",
     "output_type": "stream",
     "text": [
      "[4, 5, 6, 7, 8, 9, 10, 11, 12, 12, 13, 14, 15, 16, 17, 18, 19]\n"
     ]
    }
   ],
   "source": [
    "print(set)"
   ]
  },
  {
   "cell_type": "code",
   "execution_count": null,
   "id": "0948d531",
   "metadata": {},
   "outputs": [],
   "source": []
  }
 ],
 "metadata": {
  "kernelspec": {
   "display_name": "Python 3 (ipykernel)",
   "language": "python",
   "name": "python3"
  },
  "language_info": {
   "codemirror_mode": {
    "name": "ipython",
    "version": 3
   },
   "file_extension": ".py",
   "mimetype": "text/x-python",
   "name": "python",
   "nbconvert_exporter": "python",
   "pygments_lexer": "ipython3",
   "version": "3.11.4"
  }
 },
 "nbformat": 4,
 "nbformat_minor": 5
}
