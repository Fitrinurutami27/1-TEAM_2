{
 "cells": [
  {
   "cell_type": "code",
   "execution_count": 4,
   "id": "6bee83b8",
   "metadata": {},
   "outputs": [],
   "source": [
    "a = {\"nama\": \"nam do san\", \"usia\" : 25}"
   ]
  },
  {
   "cell_type": "code",
   "execution_count": 5,
   "id": "9f2f00a3",
   "metadata": {},
   "outputs": [
    {
     "data": {
      "text/plain": [
       "dict"
      ]
     },
     "execution_count": 5,
     "metadata": {},
     "output_type": "execute_result"
    }
   ],
   "source": [
    "type(a)"
   ]
  },
  {
   "cell_type": "code",
   "execution_count": 6,
   "id": "757967ea",
   "metadata": {},
   "outputs": [
    {
     "data": {
      "text/plain": [
       "'nam do san'"
      ]
     },
     "execution_count": 6,
     "metadata": {},
     "output_type": "execute_result"
    }
   ],
   "source": [
    "a[\"nama\"]"
   ]
  },
  {
   "cell_type": "markdown",
   "id": "38af87a3",
   "metadata": {},
   "source": [
    "hal ini terjadi error karena \"nam do san\" bukan termasuk key"
   ]
  },
  {
   "cell_type": "code",
   "execution_count": 7,
   "id": "3693ab9f",
   "metadata": {},
   "outputs": [
    {
     "ename": "KeyError",
     "evalue": "'nam do san'",
     "output_type": "error",
     "traceback": [
      "\u001b[1;31m---------------------------------------------------------------------------\u001b[0m",
      "\u001b[1;31mKeyError\u001b[0m                                  Traceback (most recent call last)",
      "Cell \u001b[1;32mIn[7], line 1\u001b[0m\n\u001b[1;32m----> 1\u001b[0m a[\u001b[38;5;124m\"\u001b[39m\u001b[38;5;124mnam do san\u001b[39m\u001b[38;5;124m\"\u001b[39m]\n",
      "\u001b[1;31mKeyError\u001b[0m: 'nam do san'"
     ]
    }
   ],
   "source": [
    "a[\"nam do san\"]"
   ]
  },
  {
   "cell_type": "code",
   "execution_count": 8,
   "id": "d4e92cc4",
   "metadata": {},
   "outputs": [
    {
     "data": {
      "text/plain": [
       "25"
      ]
     },
     "execution_count": 8,
     "metadata": {},
     "output_type": "execute_result"
    }
   ],
   "source": [
    "a[\"usia\"]"
   ]
  },
  {
   "cell_type": "markdown",
   "id": "a3c9f79a",
   "metadata": {},
   "source": [
    "dictionary bukan termasuk dalam implementasi urutan(sequences) ,sehingga tidak bisa di panggil dengan urutan indeks,misal di coba dengan indeks[0] tetapi hasil error (key error) karena tidak ada kunci (key) 0;"
   ]
  },
  {
   "cell_type": "code",
   "execution_count": 9,
   "id": "0a04a0b7",
   "metadata": {},
   "outputs": [
    {
     "ename": "KeyError",
     "evalue": "0",
     "output_type": "error",
     "traceback": [
      "\u001b[1;31m---------------------------------------------------------------------------\u001b[0m",
      "\u001b[1;31mKeyError\u001b[0m                                  Traceback (most recent call last)",
      "Cell \u001b[1;32mIn[9], line 1\u001b[0m\n\u001b[1;32m----> 1\u001b[0m a[\u001b[38;5;241m0\u001b[39m]\n",
      "\u001b[1;31mKeyError\u001b[0m: 0"
     ]
    }
   ],
   "source": [
    "a[0]"
   ]
  },
  {
   "cell_type": "markdown",
   "id": "78336b0e",
   "metadata": {},
   "source": [
    "CONDITIONAL EXPRESSIONS\n",
    "\n",
    "\"IF\""
   ]
  },
  {
   "cell_type": "code",
   "execution_count": 42,
   "id": "ea9ec960",
   "metadata": {},
   "outputs": [
    {
     "name": "stdout",
     "output_type": "stream",
     "text": [
      "nama saya adalah fitri nur utami\n",
      "usia saya : 20\n"
     ]
    }
   ],
   "source": [
    "namaku = \"fitri nur utami\"\n",
    "\n",
    "if namaku:\n",
    "    print(\"nama saya adalah {}\".format(namaku))\n",
    "    \n",
    "usiaku = 20\n",
    "\n",
    "if usiaku:\n",
    "    print(\"usia saya : {}\".format(usiaku))"
   ]
  },
  {
   "cell_type": "markdown",
   "id": "9e1c107b",
   "metadata": {},
   "source": [
    "\"ELSE\""
   ]
  },
  {
   "cell_type": "code",
   "execution_count": 50,
   "id": "9896667b",
   "metadata": {
    "scrolled": true
   },
   "outputs": [
    {
     "name": "stdout",
     "output_type": "stream",
     "text": [
      "usia anda: 20\n"
     ]
    }
   ],
   "source": [
    "usia = (input(\"usia anda: \"))"
   ]
  },
  {
   "cell_type": "code",
   "execution_count": 51,
   "id": "c844916d",
   "metadata": {},
   "outputs": [
    {
     "name": "stdout",
     "output_type": "stream",
     "text": [
      "15\n"
     ]
    },
    {
     "data": {
      "text/plain": [
       "15"
      ]
     },
     "execution_count": 51,
     "metadata": {},
     "output_type": "execute_result"
    }
   ],
   "source": [
    "int(input())"
   ]
  },
  {
   "cell_type": "code",
   "execution_count": 54,
   "id": "75a82281",
   "metadata": {},
   "outputs": [
    {
     "name": "stdout",
     "output_type": "stream",
     "text": [
      "usia anda: 10\n",
      "belum punya KTP\n"
     ]
    }
   ],
   "source": [
    "usia = int(input(\"usia anda: \"))\n",
    "\n",
    "if usia >= 17:\n",
    "    print(\"sudah punya KTP\")\n",
    "else:\n",
    "    print(\"belum punya KTP\")"
   ]
  },
  {
   "cell_type": "markdown",
   "id": "7705d96b",
   "metadata": {},
   "source": [
    "TASK2 HARI KAMIS"
   ]
  },
  {
   "cell_type": "code",
   "execution_count": 30,
   "id": "d71ab45c",
   "metadata": {},
   "outputs": [],
   "source": [
    "ANGGOTA= {\"nama\": [\"Daniel\",\"diyah\",\"aulia\",\"widya\",\"fitri\"], \"kelompok\":2, \"pathway\" :\"dataanalis\"}"
   ]
  },
  {
   "cell_type": "code",
   "execution_count": 31,
   "id": "08a4ef0a",
   "metadata": {},
   "outputs": [
    {
     "name": "stdout",
     "output_type": "stream",
     "text": [
      "{'nama': ['Daniel', 'diyah', 'aulia', 'widya', 'fitri'], 'kelompok': 2, 'pathway': 'dataanalis'}\n"
     ]
    }
   ],
   "source": [
    "print(ANGGOTA)"
   ]
  },
  {
   "cell_type": "code",
   "execution_count": 39,
   "id": "540aab65",
   "metadata": {},
   "outputs": [
    {
     "data": {
      "text/plain": [
       "'Daniel'"
      ]
     },
     "execution_count": 39,
     "metadata": {},
     "output_type": "execute_result"
    }
   ],
   "source": [
    "ANGGOTA[\"nama\"][0]"
   ]
  },
  {
   "cell_type": "code",
   "execution_count": 38,
   "id": "d6c6fcc5",
   "metadata": {},
   "outputs": [
    {
     "data": {
      "text/plain": [
       "2"
      ]
     },
     "execution_count": 38,
     "metadata": {},
     "output_type": "execute_result"
    }
   ],
   "source": [
    "ANGGOTA[\"kelompok\"]"
   ]
  },
  {
   "cell_type": "code",
   "execution_count": 40,
   "id": "b0717882",
   "metadata": {},
   "outputs": [
    {
     "data": {
      "text/plain": [
       "'dataanalis'"
      ]
     },
     "execution_count": 40,
     "metadata": {},
     "output_type": "execute_result"
    }
   ],
   "source": [
    "ANGGOTA[\"pathway\"]"
   ]
  },
  {
   "cell_type": "markdown",
   "id": "1ba37129",
   "metadata": {},
   "source": [
    "TASK3 HARI KAMIS"
   ]
  },
  {
   "cell_type": "code",
   "execution_count": 49,
   "id": "d8fcdd53",
   "metadata": {},
   "outputs": [
    {
     "name": "stdout",
     "output_type": "stream",
     "text": [
      "kami kelompok 2\n",
      "dan kami dari pathway data analis\n"
     ]
    }
   ],
   "source": [
    "kami_dari = 2\n",
    "\n",
    "if kami_dari:\n",
    "    print(\"kami kelompok {}\".format(kami_dari))\n",
    "    \n",
    "pathway = \"data analis\"\n",
    "\n",
    "if pathway:\n",
    "    print(\"dan kami dari pathway {}\".format(pathway))"
   ]
  },
  {
   "cell_type": "code",
   "execution_count": 3,
   "id": "93c76ec3",
   "metadata": {},
   "outputs": [
    {
     "name": "stdout",
     "output_type": "stream",
     "text": [
      "nilai ujian: 30\n",
      "tidak lulus\n"
     ]
    }
   ],
   "source": [
    "nilai = int(input(\"nilai ujian: \"))\n",
    "\n",
    "if nilai >= 65:\n",
    "    print(\"lulus\")\n",
    "else:\n",
    "    print(\"tidak lulus\")"
   ]
  },
  {
   "cell_type": "code",
   "execution_count": null,
   "id": "39e019d5",
   "metadata": {},
   "outputs": [],
   "source": []
  }
 ],
 "metadata": {
  "kernelspec": {
   "display_name": "Python 3 (ipykernel)",
   "language": "python",
   "name": "python3"
  },
  "language_info": {
   "codemirror_mode": {
    "name": "ipython",
    "version": 3
   },
   "file_extension": ".py",
   "mimetype": "text/x-python",
   "name": "python",
   "nbconvert_exporter": "python",
   "pygments_lexer": "ipython3",
   "version": "3.11.4"
  }
 },
 "nbformat": 4,
 "nbformat_minor": 5
}
