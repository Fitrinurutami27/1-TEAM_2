{
 "cells": [
  {
   "cell_type": "code",
   "execution_count": 1,
   "id": "063ca476",
   "metadata": {},
   "outputs": [],
   "source": [
    "a = 10"
   ]
  },
  {
   "cell_type": "code",
   "execution_count": 2,
   "id": "060b69f9",
   "metadata": {},
   "outputs": [
    {
     "data": {
      "text/plain": [
       "int"
      ]
     },
     "execution_count": 2,
     "metadata": {},
     "output_type": "execute_result"
    }
   ],
   "source": [
    "type(a)"
   ]
  },
  {
   "cell_type": "code",
   "execution_count": 3,
   "id": "14bab261",
   "metadata": {},
   "outputs": [],
   "source": [
    "b = 1.7"
   ]
  },
  {
   "cell_type": "markdown",
   "id": "6ef5ae19",
   "metadata": {},
   "source": [
    "yang membedakan antara interger dan float adalah tanda komanya di belakang angka desimal"
   ]
  },
  {
   "cell_type": "code",
   "execution_count": 5,
   "id": "c840e707",
   "metadata": {},
   "outputs": [],
   "source": [
    "a = 1"
   ]
  },
  {
   "cell_type": "code",
   "execution_count": 6,
   "id": "aab3f59a",
   "metadata": {},
   "outputs": [
    {
     "data": {
      "text/plain": [
       "int"
      ]
     },
     "execution_count": 6,
     "metadata": {},
     "output_type": "execute_result"
    }
   ],
   "source": [
    "type(a)"
   ]
  },
  {
   "cell_type": "code",
   "execution_count": 7,
   "id": "9a2ff553",
   "metadata": {},
   "outputs": [],
   "source": [
    "b = 1.0"
   ]
  },
  {
   "cell_type": "markdown",
   "id": "c664bb95",
   "metadata": {},
   "source": [
    "TAKS HARI SENIN"
   ]
  },
  {
   "cell_type": "code",
   "execution_count": 17,
   "id": "20eef5cb",
   "metadata": {},
   "outputs": [],
   "source": [
    "a = 10\n",
    "b = 2.4"
   ]
  },
  {
   "cell_type": "code",
   "execution_count": 18,
   "id": "fea26ce9",
   "metadata": {},
   "outputs": [
    {
     "data": {
      "text/plain": [
       "float"
      ]
     },
     "execution_count": 18,
     "metadata": {},
     "output_type": "execute_result"
    }
   ],
   "source": [
    "type(b)"
   ]
  },
  {
   "cell_type": "markdown",
   "id": "19d82dfc",
   "metadata": {},
   "source": [
    "karena python banyak digunakan juga oleh matematikawan, tipe bilangan di python juga mendukung bilangan imajiner dan bilangan kompleks.nilai bilangan kompleks di tuliskan delam formulasi x + yj, yakni x adalah bilangan real dan y adalah bilangan imajiner."
   ]
  },
  {
   "cell_type": "code",
   "execution_count": 22,
   "id": "69e3a3bb",
   "metadata": {},
   "outputs": [],
   "source": [
    "c = 1+2j"
   ]
  },
  {
   "cell_type": "code",
   "execution_count": 28,
   "id": "b2417241",
   "metadata": {},
   "outputs": [
    {
     "data": {
      "text/plain": [
       "complex"
      ]
     },
     "execution_count": 28,
     "metadata": {},
     "output_type": "execute_result"
    }
   ],
   "source": [
    "type(c)"
   ]
  },
  {
   "cell_type": "markdown",
   "id": "babe7ef5",
   "metadata": {},
   "source": [
    "TASK2 HARI SENIN"
   ]
  },
  {
   "cell_type": "code",
   "execution_count": 26,
   "id": "dffce5a0",
   "metadata": {},
   "outputs": [],
   "source": [
    "d = 3 + 5j"
   ]
  },
  {
   "cell_type": "code",
   "execution_count": 35,
   "id": "db3fef63",
   "metadata": {
    "scrolled": true
   },
   "outputs": [
    {
     "data": {
      "text/plain": [
       "complex"
      ]
     },
     "execution_count": 35,
     "metadata": {},
     "output_type": "execute_result"
    }
   ],
   "source": [
    "type(d)"
   ]
  },
  {
   "cell_type": "markdown",
   "id": "8473d801",
   "metadata": {},
   "source": [
    "contoh string"
   ]
  },
  {
   "cell_type": "code",
   "execution_count": 29,
   "id": "f1cb6ec7",
   "metadata": {},
   "outputs": [],
   "source": [
    "a = \"hello word\""
   ]
  },
  {
   "cell_type": "code",
   "execution_count": 30,
   "id": "07953635",
   "metadata": {},
   "outputs": [
    {
     "name": "stdout",
     "output_type": "stream",
     "text": [
      "hello word\n"
     ]
    }
   ],
   "source": [
    "print(a)"
   ]
  },
  {
   "cell_type": "code",
   "execution_count": 31,
   "id": "22984b7e",
   "metadata": {},
   "outputs": [
    {
     "data": {
      "text/plain": [
       "str"
      ]
     },
     "execution_count": 31,
     "metadata": {},
     "output_type": "execute_result"
    }
   ],
   "source": [
    "type(a)"
   ]
  },
  {
   "cell_type": "markdown",
   "id": "dfd16792",
   "metadata": {},
   "source": [
    "CONTOH > 1 LINE"
   ]
  },
  {
   "cell_type": "code",
   "execution_count": 32,
   "id": "406a7958",
   "metadata": {},
   "outputs": [],
   "source": [
    "a = \"\"\"hello nama saya fitri.saya sekarang sedang menempuh studi independent.saya join studi independent bersama mitra MyEdusolve X Kampus merdeka.saya mengambil bidang Data Anayst\"\"\""
   ]
  },
  {
   "cell_type": "code",
   "execution_count": 33,
   "id": "d3039a72",
   "metadata": {},
   "outputs": [
    {
     "name": "stdout",
     "output_type": "stream",
     "text": [
      "hello nama saya fitri.saya sekarang sedang menempuh studi independent.saya join studi independent bersama mitra MyEdusolve X Kampus merdeka.saya mengambil bidang Data Anayst\n"
     ]
    }
   ],
   "source": [
    "print(a)"
   ]
  },
  {
   "cell_type": "code",
   "execution_count": 34,
   "id": "43109bba",
   "metadata": {},
   "outputs": [
    {
     "data": {
      "text/plain": [
       "str"
      ]
     },
     "execution_count": 34,
     "metadata": {},
     "output_type": "execute_result"
    }
   ],
   "source": [
    "type(a)"
   ]
  },
  {
   "cell_type": "markdown",
   "id": "7c642f46",
   "metadata": {},
   "source": [
    "TASK 3 TIPE DATA STRING"
   ]
  },
  {
   "cell_type": "code",
   "execution_count": 43,
   "id": "3123afa3",
   "metadata": {},
   "outputs": [],
   "source": [
    "b = \"hello kami dari kelompok 2\""
   ]
  },
  {
   "cell_type": "code",
   "execution_count": 44,
   "id": "93675160",
   "metadata": {
    "scrolled": true
   },
   "outputs": [
    {
     "name": "stdout",
     "output_type": "stream",
     "text": [
      "hello kami dari kelompok 2\n"
     ]
    }
   ],
   "source": [
    "print(b)"
   ]
  },
  {
   "cell_type": "code",
   "execution_count": 49,
   "id": "cef98c51",
   "metadata": {},
   "outputs": [],
   "source": [
    "a = \"\"\"kami sekarang sedang menempuh studi independent.kami join studi independent bersama mitra MyEdusolve X Kampus merdeka.kami mengambil bidang Data Anayst\"\"\""
   ]
  },
  {
   "cell_type": "code",
   "execution_count": 55,
   "id": "df84e980",
   "metadata": {},
   "outputs": [
    {
     "name": "stdout",
     "output_type": "stream",
     "text": [
      "kami sekarang sedang menempuh studi independent.kami join studi independent bersama mitra MyEdusolve X Kampus merdeka.kami mengambil bidang Data Anayst\n"
     ]
    }
   ],
   "source": [
    "print(a)"
   ]
  },
  {
   "cell_type": "code",
   "execution_count": 56,
   "id": "4ae24fb7",
   "metadata": {},
   "outputs": [
    {
     "data": {
      "text/plain": [
       "str"
      ]
     },
     "execution_count": 56,
     "metadata": {},
     "output_type": "execute_result"
    }
   ],
   "source": [
    "type(a)"
   ]
  },
  {
   "cell_type": "code",
   "execution_count": 58,
   "id": "f3749107",
   "metadata": {},
   "outputs": [],
   "source": [
    "a = \"\\nkami sekarang sedang menempuh studi independent. \\nkami join studi independent bersama mitra MyEdusolve X Kampus merdeka. \\nkami mengambil bidang Data Anayst\""
   ]
  },
  {
   "cell_type": "code",
   "execution_count": 59,
   "id": "89348ba6",
   "metadata": {},
   "outputs": [
    {
     "name": "stdout",
     "output_type": "stream",
     "text": [
      "\n",
      "kami sekarang sedang menempuh studi independent. \n",
      "kami join studi independent bersama mitra MyEdusolve X Kampus merdeka. \n",
      "kami mengambil bidang Data Anayst\n"
     ]
    }
   ],
   "source": [
    "print(a)"
   ]
  },
  {
   "cell_type": "code",
   "execution_count": 60,
   "id": "d0c59084",
   "metadata": {},
   "outputs": [
    {
     "data": {
      "text/plain": [
       "str"
      ]
     },
     "execution_count": 60,
     "metadata": {},
     "output_type": "execute_result"
    }
   ],
   "source": [
    "type(a)"
   ]
  },
  {
   "cell_type": "markdown",
   "id": "93af7d49",
   "metadata": {},
   "source": [
    "TIPE DATA BOOLEAN dimana jawabannya hanya TRUE and FALSE"
   ]
  },
  {
   "cell_type": "code",
   "execution_count": 51,
   "id": "aa424c0d",
   "metadata": {},
   "outputs": [
    {
     "data": {
      "text/plain": [
       "False"
      ]
     },
     "execution_count": 51,
     "metadata": {},
     "output_type": "execute_result"
    }
   ],
   "source": [
    "2 > 5"
   ]
  },
  {
   "cell_type": "code",
   "execution_count": 52,
   "id": "93eae4f9",
   "metadata": {},
   "outputs": [
    {
     "data": {
      "text/plain": [
       "False"
      ]
     },
     "execution_count": 52,
     "metadata": {},
     "output_type": "execute_result"
    }
   ],
   "source": [
    "2 == 5"
   ]
  },
  {
   "cell_type": "code",
   "execution_count": 53,
   "id": "957131de",
   "metadata": {},
   "outputs": [
    {
     "data": {
      "text/plain": [
       "True"
      ]
     },
     "execution_count": 53,
     "metadata": {},
     "output_type": "execute_result"
    }
   ],
   "source": [
    "2<= 2"
   ]
  },
  {
   "cell_type": "code",
   "execution_count": 54,
   "id": "7b53cfab",
   "metadata": {},
   "outputs": [
    {
     "data": {
      "text/plain": [
       "True"
      ]
     },
     "execution_count": 54,
     "metadata": {},
     "output_type": "execute_result"
    }
   ],
   "source": [
    "2 != 3"
   ]
  },
  {
   "cell_type": "code",
   "execution_count": null,
   "id": "0e76d01d",
   "metadata": {},
   "outputs": [],
   "source": []
  }
 ],
 "metadata": {
  "kernelspec": {
   "display_name": "Python 3 (ipykernel)",
   "language": "python",
   "name": "python3"
  },
  "language_info": {
   "codemirror_mode": {
    "name": "ipython",
    "version": 3
   },
   "file_extension": ".py",
   "mimetype": "text/x-python",
   "name": "python",
   "nbconvert_exporter": "python",
   "pygments_lexer": "ipython3",
   "version": "3.11.4"
  }
 },
 "nbformat": 4,
 "nbformat_minor": 5
}
